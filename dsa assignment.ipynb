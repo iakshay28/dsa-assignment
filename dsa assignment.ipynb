{
 "cells": [
  {
   "cell_type": "markdown",
   "id": "09cd0f2c",
   "metadata": {},
   "source": [
    "# Write a program to find all pairs of an integer array whose sum is equal to a given number?"
   ]
  },
  {
   "cell_type": "code",
   "execution_count": 19,
   "id": "6ff590d1",
   "metadata": {},
   "outputs": [
    {
     "name": "stdout",
     "output_type": "stream",
     "text": [
      "{(2, 4), (1, 5)}\n"
     ]
    }
   ],
   "source": [
    "def findpair(arr,target_sum):\n",
    "    pairs=set()\n",
    "    seen=set()\n",
    "    for num in arr:\n",
    "        number=target_sum-num\n",
    "        if number in seen:\n",
    "            pairs.add((min(num,number),max(num,number)))\n",
    "        seen.add(num)\n",
    "    return pairs\n",
    "arr=[1,2,3,4,5]\n",
    "target_sum=6\n",
    "print(findpair(arr,target_sum))"
   ]
  },
  {
   "cell_type": "markdown",
   "id": "070e74df",
   "metadata": {},
   "source": [
    "# Write a program to reverse an array in place? In place means you cannot create a new array. You have to update the original array."
   ]
  },
  {
   "cell_type": "code",
   "execution_count": 11,
   "id": "1138c508",
   "metadata": {},
   "outputs": [
    {
     "name": "stdout",
     "output_type": "stream",
     "text": [
      "[5, 4, 10, 12, 1]\n"
     ]
    }
   ],
   "source": [
    "def reverse(arr):\n",
    "    n = len(arr)\n",
    "    for i in range(n//2):\n",
    "        arr[i], arr[n-i-1] = arr[n-i-1], arr[i]\n",
    "    return arr\n",
    "arr = [1, 12, 10, 4, 5]\n",
    "print(reverse(arr))"
   ]
  },
  {
   "cell_type": "markdown",
   "id": "6921d573",
   "metadata": {},
   "source": [
    "# Write a program to check if two strings are a rotation of each other?"
   ]
  },
  {
   "cell_type": "code",
   "execution_count": 15,
   "id": "5d5758a0",
   "metadata": {},
   "outputs": [
    {
     "name": "stdout",
     "output_type": "stream",
     "text": [
      "True\n"
     ]
    }
   ],
   "source": [
    "def rotations(str1,str2):\n",
    "    if len(str1) != len(str2):\n",
    "        return False\n",
    "    str1=str1+str1\n",
    "    return str2 in str1\n",
    "str1=\"hello\"\n",
    "str2=\"llohe\"\n",
    "print(rotations(str1,str2))"
   ]
  },
  {
   "cell_type": "markdown",
   "id": "976402d9",
   "metadata": {},
   "source": [
    "# Write a program to print the first non-repeated character from a string?"
   ]
  },
  {
   "cell_type": "code",
   "execution_count": 17,
   "id": "25fd11ad",
   "metadata": {},
   "outputs": [
    {
     "name": "stdout",
     "output_type": "stream",
     "text": [
      "k\n"
     ]
    }
   ],
   "source": [
    "def nonrepeated(s):\n",
    "    char_count={}\n",
    "    for char in s:\n",
    "        char_count[char]=char_count.get(char,0)+1\n",
    "    for char in s:\n",
    "        if char_count[char]==1:\n",
    "            return char\n",
    "    return None\n",
    "s=\"akshay\"\n",
    "print(nonrepeated(s))"
   ]
  },
  {
   "cell_type": "markdown",
   "id": "694cfac1",
   "metadata": {},
   "source": [
    "#  Read about the Tower of Hanoi algorithm. Write a program to implement it."
   ]
  },
  {
   "cell_type": "code",
   "execution_count": 20,
   "id": "f6891148",
   "metadata": {},
   "outputs": [
    {
     "name": "stdout",
     "output_type": "stream",
     "text": [
      "Move disk 1 from source A to target C\n",
      "Move disk 2 from source A to target B\n",
      "Move disk 1 from source C to target B\n",
      "Move disk 3 from source A to target C\n",
      "Move disk 1 from source B to target A\n",
      "Move disk 2 from source B to target C\n",
      "Move disk 1 from source A to target C\n"
     ]
    }
   ],
   "source": [
    "def towerOfHanoi(n, source, auxiliary, target):\n",
    "    if n == 1:\n",
    "        print(\"Move disk 1 from source\", source, \"to target\", target)\n",
    "        return\n",
    "    towerOfHanoi(n - 1, source, target, auxiliary)\n",
    "    print(\"Move disk\", n, \"from source\", source, \"to target\", target)\n",
    "    towerOfHanoi(n - 1, auxiliary, source, target)\n",
    "n = 3\n",
    "towerOfHanoi(n, \"A\", \"B\", \"C\")"
   ]
  },
  {
   "cell_type": "markdown",
   "id": "df2de49b",
   "metadata": {},
   "source": [
    "# Read about infix, prefix, and postfix expressions. Write a program to convert postfix to prefix expression."
   ]
  },
  {
   "cell_type": "code",
   "execution_count": 24,
   "id": "de48639f",
   "metadata": {},
   "outputs": [
    {
     "name": "stdout",
     "output_type": "stream",
     "text": [
      "*46\n"
     ]
    }
   ],
   "source": [
    "def post(expression):\n",
    "    stack = []\n",
    "    for char in expression:\n",
    "        if char in [\"+\", \"-\", \"*\", \"/\"]:\n",
    "            operand1 = stack.pop()\n",
    "            operand2 = stack.pop()\n",
    "            result = char + operand2 + operand1\n",
    "            stack.append(result)\n",
    "        else:\n",
    "            stack.append(char)\n",
    "    return stack[0]\n",
    "expression = \"46*\"\n",
    "print(post(expression))\n"
   ]
  },
  {
   "cell_type": "markdown",
   "id": "91d63607",
   "metadata": {},
   "source": [
    "# Write a program to convert prefix expression to infix expression."
   ]
  },
  {
   "cell_type": "code",
   "execution_count": 27,
   "id": "45c04000",
   "metadata": {},
   "outputs": [
    {
     "name": "stdout",
     "output_type": "stream",
     "text": [
      "8\n"
     ]
    }
   ],
   "source": [
    "def prefixToInfix(expression):\n",
    "    stack = []\n",
    "    for char in reversed(expression):\n",
    "        if char in [\"+\", \"-\", \"*\", \"/\"]:\n",
    "            operand1 = stack.pop()\n",
    "            operand2 = stack.pop()\n",
    "            result = \"(\" + operand1 + char + operand2 + \")\"\n",
    "            stack.append(result)\n",
    "        else:\n",
    "            stack.append(char)\n",
    "    return stack[0]\n",
    "expression = \"+2 -3 8\"\n",
    "print(prefixToInfix(expression))"
   ]
  },
  {
   "cell_type": "markdown",
   "id": "bc531208",
   "metadata": {},
   "source": [
    "# Write a program to check if all the brackets are closed in a given code snippet."
   ]
  },
  {
   "cell_type": "code",
   "execution_count": 28,
   "id": "a5825c60",
   "metadata": {},
   "outputs": [
    {
     "name": "stdout",
     "output_type": "stream",
     "text": [
      "Enter the code snippet: akshay\n",
      "All brackets are closed.\n"
     ]
    }
   ],
   "source": [
    "def is_balanced(code):\n",
    "    stack = []\n",
    "    for char in code:\n",
    "        if char in ['(', '{', '[']:\n",
    "            stack.append(char)\n",
    "        elif char in [')', '}', ']']:\n",
    "            if not stack:\n",
    "                return False\n",
    "            opening_bracket = stack.pop()\n",
    "            if (opening_bracket == '(' and char != ')') or \\\n",
    "               (opening_bracket == '{' and char != '}') or \\\n",
    "               (opening_bracket == '[' and char != ']'):\n",
    "                return False\n",
    "    return not stack\n",
    "\n",
    "code_snippet = input(\"Enter the code snippet: \")\n",
    "if is_balanced(code_snippet):\n",
    "    print(\"All brackets are closed.\")\n",
    "else:\n",
    "    print(\"Not all brackets are closed.\")"
   ]
  },
  {
   "cell_type": "markdown",
   "id": "28c7ab04",
   "metadata": {},
   "source": [
    "# Write a program to reverse a stack."
   ]
  },
  {
   "cell_type": "code",
   "execution_count": 30,
   "id": "8b296bb3",
   "metadata": {},
   "outputs": [
    {
     "name": "stdout",
     "output_type": "stream",
     "text": [
      "Original stack: [1, 2, 3, 4, 5]\n",
      "Reversed stack: [5, 4, 3, 2, 1]\n"
     ]
    }
   ],
   "source": [
    "def reverse_stack(stack):\n",
    "    if not stack:\n",
    "        return stack\n",
    "    top = stack.pop()\n",
    "    reverse_stack(stack)\n",
    "    insert_at_bottom(stack, top)\n",
    "\n",
    "def insert_at_bottom(stack, item):\n",
    "    if not stack:\n",
    "        stack.append(item)\n",
    "        return\n",
    "    top = stack.pop()\n",
    "    insert_at_bottom(stack, item)\n",
    "    stack.append(top)\n",
    "stack = [1, 2, 3, 4, 5]\n",
    "print(\"Original stack:\", stack)\n",
    "reverse_stack(stack)\n",
    "print(\"Reversed stack:\", stack)"
   ]
  },
  {
   "cell_type": "markdown",
   "id": "3f06dae8",
   "metadata": {},
   "source": [
    "# Write a program to find the smallest number using a stack."
   ]
  },
  {
   "cell_type": "code",
   "execution_count": 31,
   "id": "38ce975f",
   "metadata": {},
   "outputs": [
    {
     "name": "stdout",
     "output_type": "stream",
     "text": [
      "Minimum element: 1\n"
     ]
    }
   ],
   "source": [
    "class MinStack:\n",
    "    def __init__(self):\n",
    "        self.stack = []\n",
    "        self.min_stack = []\n",
    "\n",
    "    def push(self, x):\n",
    "        self.stack.append(x)\n",
    "        if not self.min_stack or x <= self.min_stack[-1]:\n",
    "            self.min_stack.append(x)\n",
    "\n",
    "    def pop(self):\n",
    "        if self.stack[-1] == self.min_stack[-1]:\n",
    "            self.min_stack.pop()\n",
    "        return self.stack.pop()\n",
    "\n",
    "    def top(self):\n",
    "        return self.stack[-1]\n",
    "\n",
    "    def get_min(self):\n",
    "        return self.min_stack[-1]\n",
    "stack = MinStack()\n",
    "stack.push(3)\n",
    "stack.push(5)\n",
    "stack.push(2)\n",
    "stack.push(1)\n",
    "print(\"Minimum element:\", stack.get_min())"
   ]
  },
  {
   "cell_type": "code",
   "execution_count": null,
   "id": "91518410",
   "metadata": {},
   "outputs": [],
   "source": []
  }
 ],
 "metadata": {
  "kernelspec": {
   "display_name": "Python 3 (ipykernel)",
   "language": "python",
   "name": "python3"
  },
  "language_info": {
   "codemirror_mode": {
    "name": "ipython",
    "version": 3
   },
   "file_extension": ".py",
   "mimetype": "text/x-python",
   "name": "python",
   "nbconvert_exporter": "python",
   "pygments_lexer": "ipython3",
   "version": "3.9.12"
  }
 },
 "nbformat": 4,
 "nbformat_minor": 5
}
